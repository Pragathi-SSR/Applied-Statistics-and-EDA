{
 "cells": [
  {
   "cell_type": "markdown",
   "id": "94ff18a7",
   "metadata": {},
   "source": [
    "### Importing the libraries."
   ]
  },
  {
   "cell_type": "code",
   "execution_count": 1,
   "id": "886e3b16",
   "metadata": {},
   "outputs": [],
   "source": [
    "import numpy as np\n",
    "import pandas as pd\n",
    "\n",
    "import matplotlib.pyplot as plt\n",
    "import seaborn as sns\n",
    "%matplotlib inline\n",
    "import scipy.stats as stats\n",
    "\n",
    "import warnings\n",
    "warnings.filterwarnings('ignore')"
   ]
  },
  {
   "cell_type": "markdown",
   "id": "b62da115",
   "metadata": {},
   "source": [
    "### 1) Reading the data set"
   ]
  },
  {
   "cell_type": "code",
   "execution_count": 2,
   "id": "d5bd3850",
   "metadata": {},
   "outputs": [],
   "source": [
    "start_up_companies = pd.read_csv(r'C:\\Users\\Jupally Pavan Kumar\\Downloads\\DS+-+Part3+-+CompanyX_EU.csv')"
   ]
  },
  {
   "cell_type": "markdown",
   "id": "b5e54578",
   "metadata": {},
   "source": [
    "- Let's create a copy for the analysis"
   ]
  },
  {
   "cell_type": "code",
   "execution_count": 3,
   "id": "4e36af5c",
   "metadata": {},
   "outputs": [
    {
     "data": {
      "text/plain": [
       "(662, 6)"
      ]
     },
     "execution_count": 3,
     "metadata": {},
     "output_type": "execute_result"
    }
   ],
   "source": [
    "companies_1 = start_up_companies.copy()\n",
    "companies_1.shape"
   ]
  },
  {
   "cell_type": "markdown",
   "id": "012d5940",
   "metadata": {},
   "source": [
    "- There are 662 rows and 6 columns in the data set."
   ]
  },
  {
   "cell_type": "code",
   "execution_count": 4,
   "id": "ce700ca7",
   "metadata": {},
   "outputs": [
    {
     "data": {
      "text/html": [
       "<div>\n",
       "<style scoped>\n",
       "    .dataframe tbody tr th:only-of-type {\n",
       "        vertical-align: middle;\n",
       "    }\n",
       "\n",
       "    .dataframe tbody tr th {\n",
       "        vertical-align: top;\n",
       "    }\n",
       "\n",
       "    .dataframe thead th {\n",
       "        text-align: right;\n",
       "    }\n",
       "</style>\n",
       "<table border=\"1\" class=\"dataframe\">\n",
       "  <thead>\n",
       "    <tr style=\"text-align: right;\">\n",
       "      <th></th>\n",
       "      <th>Startup</th>\n",
       "      <th>Product</th>\n",
       "      <th>Funding</th>\n",
       "      <th>Event</th>\n",
       "      <th>Result</th>\n",
       "      <th>OperatingState</th>\n",
       "    </tr>\n",
       "  </thead>\n",
       "  <tbody>\n",
       "    <tr>\n",
       "      <th>0</th>\n",
       "      <td>2600Hz</td>\n",
       "      <td>2600hz.com</td>\n",
       "      <td>NaN</td>\n",
       "      <td>Disrupt SF 2013</td>\n",
       "      <td>Contestant</td>\n",
       "      <td>Operating</td>\n",
       "    </tr>\n",
       "    <tr>\n",
       "      <th>1</th>\n",
       "      <td>3DLT</td>\n",
       "      <td>3dlt.com</td>\n",
       "      <td>$630K</td>\n",
       "      <td>Disrupt NYC 2013</td>\n",
       "      <td>Contestant</td>\n",
       "      <td>Closed</td>\n",
       "    </tr>\n",
       "    <tr>\n",
       "      <th>2</th>\n",
       "      <td>3DPrinterOS</td>\n",
       "      <td>3dprinteros.com</td>\n",
       "      <td>NaN</td>\n",
       "      <td>Disrupt SF 2016</td>\n",
       "      <td>Contestant</td>\n",
       "      <td>Operating</td>\n",
       "    </tr>\n",
       "    <tr>\n",
       "      <th>3</th>\n",
       "      <td>3Dprintler</td>\n",
       "      <td>3dprintler.com</td>\n",
       "      <td>$1M</td>\n",
       "      <td>Disrupt NY 2016</td>\n",
       "      <td>Audience choice</td>\n",
       "      <td>Operating</td>\n",
       "    </tr>\n",
       "    <tr>\n",
       "      <th>4</th>\n",
       "      <td>42 Technologies</td>\n",
       "      <td>42technologies.com</td>\n",
       "      <td>NaN</td>\n",
       "      <td>Disrupt NYC 2013</td>\n",
       "      <td>Contestant</td>\n",
       "      <td>Operating</td>\n",
       "    </tr>\n",
       "  </tbody>\n",
       "</table>\n",
       "</div>"
      ],
      "text/plain": [
       "           Startup             Product Funding             Event  \\\n",
       "0           2600Hz          2600hz.com     NaN   Disrupt SF 2013   \n",
       "1             3DLT            3dlt.com   $630K  Disrupt NYC 2013   \n",
       "2      3DPrinterOS     3dprinteros.com     NaN   Disrupt SF 2016   \n",
       "3       3Dprintler      3dprintler.com     $1M   Disrupt NY 2016   \n",
       "4  42 Technologies  42technologies.com     NaN  Disrupt NYC 2013   \n",
       "\n",
       "            Result OperatingState  \n",
       "0       Contestant      Operating  \n",
       "1       Contestant         Closed  \n",
       "2       Contestant      Operating  \n",
       "3  Audience choice      Operating  \n",
       "4       Contestant      Operating  "
      ]
     },
     "execution_count": 4,
     "metadata": {},
     "output_type": "execute_result"
    }
   ],
   "source": [
    "companies_1.head()"
   ]
  },
  {
   "cell_type": "code",
   "execution_count": 6,
   "id": "b8356bc8",
   "metadata": {},
   "outputs": [
    {
     "data": {
      "text/html": [
       "<div>\n",
       "<style scoped>\n",
       "    .dataframe tbody tr th:only-of-type {\n",
       "        vertical-align: middle;\n",
       "    }\n",
       "\n",
       "    .dataframe tbody tr th {\n",
       "        vertical-align: top;\n",
       "    }\n",
       "\n",
       "    .dataframe thead th {\n",
       "        text-align: right;\n",
       "    }\n",
       "</style>\n",
       "<table border=\"1\" class=\"dataframe\">\n",
       "  <thead>\n",
       "    <tr style=\"text-align: right;\">\n",
       "      <th></th>\n",
       "      <th>Startup</th>\n",
       "      <th>Product</th>\n",
       "      <th>Funding</th>\n",
       "      <th>Event</th>\n",
       "      <th>Result</th>\n",
       "      <th>OperatingState</th>\n",
       "    </tr>\n",
       "  </thead>\n",
       "  <tbody>\n",
       "    <tr>\n",
       "      <th>657</th>\n",
       "      <td>Zivity</td>\n",
       "      <td>zivity.com</td>\n",
       "      <td>$8M</td>\n",
       "      <td>TC40 2007</td>\n",
       "      <td>Contestant</td>\n",
       "      <td>Operating</td>\n",
       "    </tr>\n",
       "    <tr>\n",
       "      <th>658</th>\n",
       "      <td>Zmorph</td>\n",
       "      <td>zmorph3d.com</td>\n",
       "      <td>$1M</td>\n",
       "      <td>-</td>\n",
       "      <td>Audience choice</td>\n",
       "      <td>Operating</td>\n",
       "    </tr>\n",
       "    <tr>\n",
       "      <th>659</th>\n",
       "      <td>Zocdoc</td>\n",
       "      <td>zocdoc.com</td>\n",
       "      <td>$223M</td>\n",
       "      <td>TC40 2007</td>\n",
       "      <td>Contestant</td>\n",
       "      <td>Operating</td>\n",
       "    </tr>\n",
       "    <tr>\n",
       "      <th>660</th>\n",
       "      <td>Zula</td>\n",
       "      <td>zulaapp.com</td>\n",
       "      <td>$3.4M</td>\n",
       "      <td>Disrupt SF 2013</td>\n",
       "      <td>Audience choice</td>\n",
       "      <td>Operating</td>\n",
       "    </tr>\n",
       "    <tr>\n",
       "      <th>661</th>\n",
       "      <td>Zumper</td>\n",
       "      <td>zumper.com</td>\n",
       "      <td>$31.5M</td>\n",
       "      <td>Disrupt SF 2012</td>\n",
       "      <td>Finalist</td>\n",
       "      <td>Operating</td>\n",
       "    </tr>\n",
       "  </tbody>\n",
       "</table>\n",
       "</div>"
      ],
      "text/plain": [
       "    Startup       Product Funding            Event           Result  \\\n",
       "657  Zivity    zivity.com     $8M        TC40 2007       Contestant   \n",
       "658  Zmorph  zmorph3d.com     $1M                -  Audience choice   \n",
       "659  Zocdoc    zocdoc.com   $223M        TC40 2007       Contestant   \n",
       "660    Zula   zulaapp.com   $3.4M  Disrupt SF 2013  Audience choice   \n",
       "661  Zumper    zumper.com  $31.5M  Disrupt SF 2012         Finalist   \n",
       "\n",
       "    OperatingState  \n",
       "657      Operating  \n",
       "658      Operating  \n",
       "659      Operating  \n",
       "660      Operating  \n",
       "661      Operating  "
      ]
     },
     "execution_count": 6,
     "metadata": {},
     "output_type": "execute_result"
    }
   ],
   "source": [
    "companies_1.tail()"
   ]
  },
  {
   "cell_type": "markdown",
   "id": "92e253c3",
   "metadata": {},
   "source": [
    "1) Here null values are assigned with '-'. Let's convert them into NaN's.\n",
    "2) In the 'Funding' column, funds are given in various measures."
   ]
  },
  {
   "cell_type": "code",
   "execution_count": 7,
   "id": "b3c68942",
   "metadata": {},
   "outputs": [],
   "source": [
    "companies_1.replace('-', np.nan, inplace = True)"
   ]
  },
  {
   "cell_type": "markdown",
   "id": "3065cde3",
   "metadata": {},
   "source": [
    "### 2.A) Checking the datatypes of each attribute."
   ]
  },
  {
   "cell_type": "code",
   "execution_count": 8,
   "id": "6c4d42eb",
   "metadata": {},
   "outputs": [
    {
     "name": "stdout",
     "output_type": "stream",
     "text": [
      "<class 'pandas.core.frame.DataFrame'>\n",
      "RangeIndex: 662 entries, 0 to 661\n",
      "Data columns (total 6 columns):\n",
      " #   Column          Non-Null Count  Dtype \n",
      "---  ------          --------------  ----- \n",
      " 0   Startup         662 non-null    object\n",
      " 1   Product         656 non-null    object\n",
      " 2   Funding         448 non-null    object\n",
      " 3   Event           649 non-null    object\n",
      " 4   Result          662 non-null    object\n",
      " 5   OperatingState  662 non-null    object\n",
      "dtypes: object(6)\n",
      "memory usage: 31.2+ KB\n"
     ]
    }
   ],
   "source": [
    "companies_1.info()"
   ]
  },
  {
   "cell_type": "markdown",
   "id": "ff3e25a6",
   "metadata": {},
   "source": [
    "1) There are six columns in the dataset and all are of object type.\n",
    "2) But the funding column should be numeric as it contains the numerical data."
   ]
  },
  {
   "cell_type": "markdown",
   "id": "4d4d0a45",
   "metadata": {},
   "source": [
    "### 2.B) Checking for null values in the attributes."
   ]
  },
  {
   "cell_type": "code",
   "execution_count": 9,
   "id": "77410953",
   "metadata": {},
   "outputs": [
    {
     "data": {
      "text/plain": [
       "Startup             0\n",
       "Product             6\n",
       "Funding           214\n",
       "Event              13\n",
       "Result              0\n",
       "OperatingState      0\n",
       "dtype: int64"
      ]
     },
     "execution_count": 9,
     "metadata": {},
     "output_type": "execute_result"
    }
   ],
   "source": [
    "companies_1.isnull().sum()"
   ]
  },
  {
   "cell_type": "markdown",
   "id": "41dc86d5",
   "metadata": {},
   "source": [
    "1) In 'Product' column there are 6 null values and in 'Funding' column there are 214 null values.\n",
    "2) There are 13 Null values in the 'Event' column."
   ]
  },
  {
   "cell_type": "markdown",
   "id": "2d53c06f",
   "metadata": {},
   "source": [
    "### 3.A) Let's drop the null values"
   ]
  },
  {
   "cell_type": "code",
   "execution_count": 10,
   "id": "8c707ecd",
   "metadata": {},
   "outputs": [
    {
     "data": {
      "text/plain": [
       "0    TC50 2008\n",
       "Name: Event, dtype: object"
      ]
     },
     "execution_count": 10,
     "metadata": {},
     "output_type": "execute_result"
    }
   ],
   "source": [
    "companies_1['Event'].mode()"
   ]
  },
  {
   "cell_type": "code",
   "execution_count": 11,
   "id": "c2ef7663",
   "metadata": {},
   "outputs": [],
   "source": [
    "# Let's fill the null values in 'Event' column with mode.\n",
    "companies_1['Event'].fillna(value=companies_1['Event'].mode()[0], inplace=True)"
   ]
  },
  {
   "cell_type": "code",
   "execution_count": 12,
   "id": "e38488e8",
   "metadata": {},
   "outputs": [],
   "source": [
    "# Let's drop the null values in the 'Funding' and 'Product' columns\n",
    "companies_1.dropna(inplace = True)"
   ]
  },
  {
   "cell_type": "code",
   "execution_count": 13,
   "id": "4e2c35ba",
   "metadata": {},
   "outputs": [
    {
     "data": {
      "text/plain": [
       "Startup           0\n",
       "Product           0\n",
       "Funding           0\n",
       "Event             0\n",
       "Result            0\n",
       "OperatingState    0\n",
       "dtype: int64"
      ]
     },
     "execution_count": 13,
     "metadata": {},
     "output_type": "execute_result"
    }
   ],
   "source": [
    "companies_1.isnull().sum()"
   ]
  },
  {
   "cell_type": "markdown",
   "id": "a07a1c9c",
   "metadata": {},
   "source": [
    "### 3.B) Converting the ‘Funding’ features to a numerical value."
   ]
  },
  {
   "cell_type": "markdown",
   "id": "7f617aa2",
   "metadata": {},
   "source": [
    "- Here, funds are given in various measures. Let's convert them into Millions."
   ]
  },
  {
   "cell_type": "code",
   "execution_count": 15,
   "id": "7e4ae072",
   "metadata": {},
   "outputs": [],
   "source": [
    "companies_1.loc[:,'Funds_in_million'] = companies_1['Funding'].apply(lambda x: float(x[1:-1])/1000 if x[-1] == 'K' else (float(x[1:-1])*1000 if x[-1] == 'B' else float(x[1:-1])))"
   ]
  },
  {
   "cell_type": "markdown",
   "id": "8c115046",
   "metadata": {},
   "source": [
    "### 3.C) Let's plot the box plot for funds in million."
   ]
  },
  {
   "cell_type": "code",
   "execution_count": 16,
   "id": "e2c426e6",
   "metadata": {},
   "outputs": [
    {
     "data": {
      "image/png": "[encoded data removed]",
      "text/plain": [
       "<Figure size 640x480 with 1 Axes>"
      ]
     },
     "metadata": {},
     "output_type": "display_data"
    }
   ],
   "source": [
    "sns.boxplot(data = companies_1, y = 'Funds_in_million' )\n",
    "plt.title('Boxplot of the Funds in Million')\n",
    "plt.ylabel(\"Funds raised by the companies\")\n",
    "\n",
    "plt.show()"
   ]
  },
  {
   "cell_type": "markdown",
   "id": "0bdee88f",
   "metadata": {},
   "source": [
    "- There are a lot of significant outliers present in the data."
   ]
  },
  {
   "cell_type": "markdown",
   "id": "bb8edc68",
   "metadata": {},
   "source": [
    "### 3.D) Let's check the number of outliers greater than the upper fence."
   ]
  },
  {
   "cell_type": "code",
   "execution_count": 18,
   "id": "e3d87ea8",
   "metadata": {},
   "outputs": [
    {
     "name": "stdout",
     "output_type": "stream",
     "text": [
      "Upper_fence is 22.\n",
      "There are 60 outliers greater than the upper_fence.\n"
     ]
    }
   ],
   "source": [
    "Q1 = companies_1['Funds_in_million'].quantile(0.25)\n",
    "Q3 = companies_1['Funds_in_million'].quantile(0.75)\n",
    "IQR = Q3 - Q1\n",
    "upper_fence = Q3 + 1.5*IQR\n",
    "n = len(companies_1[companies_1['Funds_in_million']>upper_fence])\n",
    "print(\"Upper_fence is %d.\"%(upper_fence))\n",
    "print(\"There are %d outliers greater than the upper_fence.\"%(n))"
   ]
  },
  {
   "cell_type": "markdown",
   "id": "2a2b2dfd",
   "metadata": {},
   "source": [
    "1) There are 60 records that have been funded excessively in comparision to the other companies in the data.\n",
    "2) Let's drop these for further analysis."
   ]
  },
  {
   "cell_type": "code",
   "execution_count": 19,
   "id": "898be95b",
   "metadata": {},
   "outputs": [],
   "source": [
    "companies_1.drop(companies_1[companies_1['Funds_in_million']>upper_fence].index, inplace = True)"
   ]
  },
  {
   "cell_type": "code",
   "execution_count": 20,
   "id": "a09bafc8",
   "metadata": {},
   "outputs": [
    {
     "data": {
      "image/png": "[encoded data removed]",
      "text/plain": [
       "<Figure size 640x480 with 1 Axes>"
      ]
     },
     "metadata": {},
     "output_type": "display_data"
    }
   ],
   "source": [
    "plot = sns.boxplot(data = companies_1, y = 'Funds_in_million' )\n",
    "plt.title('Boxplot of the Funds in Million')\n",
    "plt.ylabel(\"Funds raised\")\n",
    "\n",
    "plt.show()"
   ]
  },
  {
   "cell_type": "markdown",
   "id": "ce80e694",
   "metadata": {},
   "source": [
    "- Even after dropping some rows, there are still a significant number of outliers present in the data."
   ]
  },
  {
   "cell_type": "markdown",
   "id": "d5298bcf",
   "metadata": {},
   "source": [
    "### 3.E) Let's check frequency of the OperatingState features classes."
   ]
  },
  {
   "cell_type": "code",
   "execution_count": 21,
   "id": "297a9572",
   "metadata": {},
   "outputs": [
    {
     "data": {
      "text/plain": [
       "OperatingState\n",
       "Operating    275\n",
       "Closed        56\n",
       "Acquired      55\n",
       "Name: count, dtype: int64"
      ]
     },
     "execution_count": 21,
     "metadata": {},
     "output_type": "execute_result"
    }
   ],
   "source": [
    "companies_1['OperatingState'].value_counts()"
   ]
  },
  {
   "cell_type": "markdown",
   "id": "dc967781",
   "metadata": {},
   "source": [
    "- There are 275 companies that are still 'Operating', 56 have been 'Closed', and 55 have been 'Acquired'."
   ]
  },
  {
   "cell_type": "markdown",
   "id": "43bb8691",
   "metadata": {},
   "source": [
    "### 4.A) Let's look at the distribution of Funds raised by companies that are still operating vs companies that closed down"
   ]
  },
  {
   "cell_type": "code",
   "execution_count": 22,
   "id": "e5ad28ec",
   "metadata": {},
   "outputs": [
    {
     "data": {
      "text/plain": [
       "<Axes: title={'center': 'Funds raised by companies that got closed'}, xlabel='Funds_in_million', ylabel='Density'>"
      ]
     },
     "execution_count": 22,
     "metadata": {},
     "output_type": "execute_result"
    },
    {
     "data": {
      "image/png": "[encoded data removed]",
      "text/plain": [
       "<Figure size 1300x500 with 2 Axes>"
      ]
     },
     "metadata": {},
     "output_type": "display_data"
    }
   ],
   "source": [
    "plt.figure(figsize = (13, 5))\n",
    "plt.subplot(121)\n",
    "plt.title('Funds raised by the companies still operating')\n",
    "sns.distplot(companies_1.loc[companies_1['OperatingState'] == 'Operating', 'Funds_in_million'])\n",
    "plt.subplot(122)\n",
    "plt.title('Funds raised by companies that got closed')\n",
    "sns.distplot(companies_1.loc[companies_1['OperatingState'] =='Closed', 'Funds_in_million'])"
   ]
  },
  {
   "cell_type": "markdown",
   "id": "efd575dc",
   "metadata": {},
   "source": [
    "1) These two distributions looks quite similar.\n",
    "2) To prove whether there is significant difference or not we can perform Hypothesis Test."
   ]
  },
  {
   "cell_type": "markdown",
   "id": "d065d0e9",
   "metadata": {},
   "source": [
    "### 4.B) Let's write the null hypothesis and alternative hypothesis"
   ]
  },
  {
   "cell_type": "markdown",
   "id": "f56aa5a9",
   "metadata": {},
   "source": [
    "**Null hypothesis (Ho)** : There is no difference between the two means\n",
    "\n",
    "**Alternate hypothesis (Ha)** : There is significant difference between the two means"
   ]
  },
  {
   "cell_type": "markdown",
   "id": "c43ae4ba",
   "metadata": {},
   "source": [
    "### 4.C) Test for significance and conclusion"
   ]
  },
  {
   "cell_type": "markdown",
   "id": "831f7bb8",
   "metadata": {},
   "source": [
    "1) Here data is not normally distributed, but the sample size is big(>=30).\n",
    "2) Here we want to compare the difference in means of the samples, we can use two sample t-test and z-test."
   ]
  },
  {
   "cell_type": "markdown",
   "id": "55de5b61",
   "metadata": {},
   "source": [
    "### (i) Z-test:-"
   ]
  },
  {
   "cell_type": "code",
   "execution_count": 23,
   "id": "e4cf3808",
   "metadata": {},
   "outputs": [
    {
     "name": "stdout",
     "output_type": "stream",
     "text": [
      "Here 0.192(p_value) > 0.05(alpha), we fail to reject the null hypothesis.\n"
     ]
    }
   ],
   "source": [
    "from statsmodels.stats.weightstats import ztest\n",
    "# extract the data of Funds raised by companies that are still operating vs companies that closed down\n",
    "\n",
    "samp_1 = companies_1.loc[companies_1['OperatingState'] == 'Operating', 'Funds_in_million']\n",
    "samp_2 = companies_1.loc[companies_1['OperatingState'] == 'Closed', 'Funds_in_million']\n",
    "\n",
    "# Let's assume level of significance is 0.05\n",
    "\n",
    "alpha = 0.05\n",
    "\n",
    "test_stat, p_value = ztest(samp_1, samp_2)\n",
    "\n",
    "if p_value <= alpha:\n",
    "    print(\"Here %.3f(p_value) < %.2f(alpha), we reject the null hypothesis.\"%(p_value, alpha))\n",
    "else:\n",
    "      print(\"Here %.3f(p_value) > %.2f(alpha), we fail to reject the null hypothesis.\"%(p_value, alpha))"
   ]
  },
  {
   "cell_type": "markdown",
   "id": "381cd407",
   "metadata": {},
   "source": [
    "### (ii) T-test"
   ]
  },
  {
   "cell_type": "code",
   "execution_count": 24,
   "id": "867340e7",
   "metadata": {},
   "outputs": [
    {
     "name": "stdout",
     "output_type": "stream",
     "text": [
      "Here 0.193(p_value) > 0.05(alpha), we fail to reject the null hypothesis.\n"
     ]
    }
   ],
   "source": [
    "from scipy.stats import ttest_ind\n",
    "test_stat, p_value = ttest_ind(samp_1, samp_2)\n",
    "\n",
    "if p_value <= alpha:\n",
    "    print('Here %.3f(p_value) < %.2f(alpha), we reject the null hypothesis.'%(p_value, alpha))\n",
    "else:\n",
    "    print('Here %.3f(p_value) > %.2f(alpha), we fail to reject the null hypothesis.'%(p_value, alpha))"
   ]
  },
  {
   "cell_type": "markdown",
   "id": "05f514e5",
   "metadata": {},
   "source": [
    "### Conclusions"
   ]
  },
  {
   "cell_type": "markdown",
   "id": "f51bead7",
   "metadata": {},
   "source": [
    "- From the above tests we can conclude that there is no evidence for rejecting the null hypothesis.\n",
    "- Based on our analysis, we can conclude that there is no evidence indicating that companies which have raised more money are more likely to succeed, or that companies which have raised less money are more prone to closure."
   ]
  },
  {
   "cell_type": "markdown",
   "id": "fd65fe27",
   "metadata": {},
   "source": [
    "### 4.D) Let's make a copy of the original data frame."
   ]
  },
  {
   "cell_type": "code",
   "execution_count": 25,
   "id": "b14ba1d2",
   "metadata": {},
   "outputs": [],
   "source": [
    "companies_2 = start_up_companies.copy(deep = True)"
   ]
  },
  {
   "cell_type": "code",
   "execution_count": 26,
   "id": "3384599b",
   "metadata": {},
   "outputs": [
    {
     "data": {
      "text/html": [
       "<div>\n",
       "<style scoped>\n",
       "    .dataframe tbody tr th:only-of-type {\n",
       "        vertical-align: middle;\n",
       "    }\n",
       "\n",
       "    .dataframe tbody tr th {\n",
       "        vertical-align: top;\n",
       "    }\n",
       "\n",
       "    .dataframe thead th {\n",
       "        text-align: right;\n",
       "    }\n",
       "</style>\n",
       "<table border=\"1\" class=\"dataframe\">\n",
       "  <thead>\n",
       "    <tr style=\"text-align: right;\">\n",
       "      <th></th>\n",
       "      <th>Startup</th>\n",
       "      <th>Product</th>\n",
       "      <th>Funding</th>\n",
       "      <th>Event</th>\n",
       "      <th>Result</th>\n",
       "      <th>OperatingState</th>\n",
       "    </tr>\n",
       "  </thead>\n",
       "  <tbody>\n",
       "    <tr>\n",
       "      <th>0</th>\n",
       "      <td>2600Hz</td>\n",
       "      <td>2600hz.com</td>\n",
       "      <td>NaN</td>\n",
       "      <td>Disrupt SF 2013</td>\n",
       "      <td>Contestant</td>\n",
       "      <td>Operating</td>\n",
       "    </tr>\n",
       "    <tr>\n",
       "      <th>1</th>\n",
       "      <td>3DLT</td>\n",
       "      <td>3dlt.com</td>\n",
       "      <td>$630K</td>\n",
       "      <td>Disrupt NYC 2013</td>\n",
       "      <td>Contestant</td>\n",
       "      <td>Closed</td>\n",
       "    </tr>\n",
       "    <tr>\n",
       "      <th>2</th>\n",
       "      <td>3DPrinterOS</td>\n",
       "      <td>3dprinteros.com</td>\n",
       "      <td>NaN</td>\n",
       "      <td>Disrupt SF 2016</td>\n",
       "      <td>Contestant</td>\n",
       "      <td>Operating</td>\n",
       "    </tr>\n",
       "    <tr>\n",
       "      <th>3</th>\n",
       "      <td>3Dprintler</td>\n",
       "      <td>3dprintler.com</td>\n",
       "      <td>$1M</td>\n",
       "      <td>Disrupt NY 2016</td>\n",
       "      <td>Audience choice</td>\n",
       "      <td>Operating</td>\n",
       "    </tr>\n",
       "    <tr>\n",
       "      <th>4</th>\n",
       "      <td>42 Technologies</td>\n",
       "      <td>42technologies.com</td>\n",
       "      <td>NaN</td>\n",
       "      <td>Disrupt NYC 2013</td>\n",
       "      <td>Contestant</td>\n",
       "      <td>Operating</td>\n",
       "    </tr>\n",
       "  </tbody>\n",
       "</table>\n",
       "</div>"
      ],
      "text/plain": [
       "           Startup             Product Funding             Event  \\\n",
       "0           2600Hz          2600hz.com     NaN   Disrupt SF 2013   \n",
       "1             3DLT            3dlt.com   $630K  Disrupt NYC 2013   \n",
       "2      3DPrinterOS     3dprinteros.com     NaN   Disrupt SF 2016   \n",
       "3       3Dprintler      3dprintler.com     $1M   Disrupt NY 2016   \n",
       "4  42 Technologies  42technologies.com     NaN  Disrupt NYC 2013   \n",
       "\n",
       "            Result OperatingState  \n",
       "0       Contestant      Operating  \n",
       "1       Contestant         Closed  \n",
       "2       Contestant      Operating  \n",
       "3  Audience choice      Operating  \n",
       "4       Contestant      Operating  "
      ]
     },
     "execution_count": 26,
     "metadata": {},
     "output_type": "execute_result"
    }
   ],
   "source": [
    "companies_2.head()"
   ]
  },
  {
   "cell_type": "markdown",
   "id": "acfa9877",
   "metadata": {},
   "source": [
    "### 4.E) Let's check frequency distribution of Result variables. "
   ]
  },
  {
   "cell_type": "code",
   "execution_count": 27,
   "id": "7e3f92a8",
   "metadata": {},
   "outputs": [
    {
     "data": {
      "text/plain": [
       "Result\n",
       "Contestant         488\n",
       "Finalist            84\n",
       "Audience choice     41\n",
       "Winner              26\n",
       "Runner up           23\n",
       "Name: count, dtype: int64"
      ]
     },
     "execution_count": 27,
     "metadata": {},
     "output_type": "execute_result"
    }
   ],
   "source": [
    "companies_2['Result'].value_counts()"
   ]
  },
  {
   "cell_type": "markdown",
   "id": "79537871",
   "metadata": {},
   "source": [
    "- Here 'Contestants' count is 488 and 'Winners' count is 26"
   ]
  },
  {
   "cell_type": "markdown",
   "id": "165f2c95",
   "metadata": {},
   "source": [
    "### 4.F) Let's calculate percentage of winners that are still operating and percentage of contestants that are still operating "
   ]
  },
  {
   "cell_type": "markdown",
   "id": "abec45ea",
   "metadata": {},
   "source": [
    "- Let's count the counts of total 'winners' and 'contestants' in 'Result' column."
   ]
  },
  {
   "cell_type": "code",
   "execution_count": 30,
   "id": "6c3c352a",
   "metadata": {},
   "outputs": [],
   "source": [
    "winners = companies_2['Result'].value_counts()['Winner']\n",
    "contestants = companies_2['Result'].value_counts()['Contestant']"
   ]
  },
  {
   "cell_type": "markdown",
   "id": "42f216e0",
   "metadata": {},
   "source": [
    "- Now count the total number of 'winners' that are still 'Operating' and total number of 'contestants' that are still 'Operating'."
   ]
  },
  {
   "cell_type": "code",
   "execution_count": 31,
   "id": "18345889",
   "metadata": {},
   "outputs": [],
   "source": [
    "win_operating = companies_2['OperatingState'][companies_2['Result'] == 'Winner'].value_counts().loc['Operating']\n",
    "con_operating = companies_2['OperatingState'][companies_2['Result'] == 'Contestant'].value_counts().loc['Operating']"
   ]
  },
  {
   "cell_type": "markdown",
   "id": "06b99efc",
   "metadata": {},
   "source": [
    "- Now calculate their percentages:"
   ]
  },
  {
   "cell_type": "code",
   "execution_count": 32,
   "id": "e31a8796",
   "metadata": {},
   "outputs": [
    {
     "name": "stdout",
     "output_type": "stream",
     "text": [
      "percentage of winners that are still operating is 0.731\n",
      "percentage of contestants that are still operating is 0.680\n"
     ]
    }
   ],
   "source": [
    "win_operating_p = win_operating/winners\n",
    "con_operating_p = con_operating/contestants\n",
    "print('percentage of winners that are still operating is %.3f'%(win_operating_p))\n",
    "print('percentage of contestants that are still operating is %.3f'%(con_operating_p))"
   ]
  },
  {
   "cell_type": "markdown",
   "id": "378d7136",
   "metadata": {},
   "source": [
    "### 4.G) Let's write the hypothesis comparing the proportion of companies that are operating between winners and contestants:"
   ]
  },
  {
   "cell_type": "markdown",
   "id": "87ee8990",
   "metadata": {},
   "source": [
    "**Null hyputhesis (Ho)**: The proportion of companies that are operating is the same in both  winners and contestants\n",
    "\n",
    "\n",
    "**Alternative hypothesis (Ha)**:  The proportion of companies that are operating is significantly different in both  winners and contestants\n"
   ]
  },
  {
   "cell_type": "markdown",
   "id": "416b25d2",
   "metadata": {},
   "source": [
    "### 4.H) Test for significance and conclusion"
   ]
  },
  {
   "cell_type": "markdown",
   "id": "94742374",
   "metadata": {},
   "source": [
    "- Based on the calculated percentages, there appears to be a slight difference in the proportion of companies that are operating between winners and contestants. Let's perform Hypothesis testing for evidence.\n",
    "- We can perform z-test for proportions and chi-square test for conclusion"
   ]
  },
  {
   "cell_type": "markdown",
   "id": "b5445acc",
   "metadata": {},
   "source": [
    "### (i) Z-test for Proportions"
   ]
  },
  {
   "cell_type": "code",
   "execution_count": 33,
   "id": "4ec263ab",
   "metadata": {},
   "outputs": [
    {
     "name": "stdout",
     "output_type": "stream",
     "text": [
      "\t Since the 0.590(p_value) > 0.05(alpha) the difference is not significant and,\n",
      "    \t we fail to reject the Null hypothesis.\n"
     ]
    }
   ],
   "source": [
    "from statsmodels.stats.proportion import proportions_ztest\n",
    "\n",
    "test_stat, p_value = proportions_ztest([con_operating, win_operating], [contestants, winners])\n",
    "\n",
    "if p_value <= alpha:\n",
    "    print('Since the %.2f(p_value) < %.2f(alpha), the difference is significant and we reject the Null hypothesis.'%(p_value, alpha))\n",
    "else:\n",
    "    print('''\\t Since the %.3f(p_value) > %.2f(alpha) the difference is not significant and,\n",
    "    \\t we fail to reject the Null hypothesis.'''%(p_value, alpha))"
   ]
  },
  {
   "cell_type": "markdown",
   "id": "e546827c",
   "metadata": {},
   "source": [
    "### (ii) Chi-square test"
   ]
  },
  {
   "cell_type": "code",
   "execution_count": 34,
   "id": "ee1d22df",
   "metadata": {},
   "outputs": [
    {
     "name": "stdout",
     "output_type": "stream",
     "text": [
      "\t Since the 0.747(p_value) > 0.05(alpha) the difference is not significant and,\n",
      "    \t we fail to reject the Null hypothesis.\n"
     ]
    }
   ],
   "source": [
    "from scipy.stats import chi2_contingency\n",
    "\n",
    "# Creating a contingency table\n",
    "contingency_table = [[con_operating, contestants - con_operating], [win_operating, winners - win_operating]]\n",
    "\n",
    "chi2_stat, p_value, _, _ = chi2_contingency(contingency_table)\n",
    "\n",
    "alpha = 0.05     # Let's consider the significance level is 0.05\n",
    "\n",
    "if p_value <= alpha:\n",
    "    print('Since the %.2f(p_value) < %.2f(alpha), the difference is significant and we reject the Null hypothesis.'%(p_value, alpha))\n",
    "else:\n",
    "    print('''\\t Since the %.3f(p_value) > %.2f(alpha) the difference is not significant and,\n",
    "    \\t we fail to reject the Null hypothesis.'''%(p_value, alpha))\n"
   ]
  },
  {
   "cell_type": "markdown",
   "id": "06768e95",
   "metadata": {},
   "source": [
    "### Conclusions"
   ]
  },
  {
   "cell_type": "markdown",
   "id": "314f21be",
   "metadata": {},
   "source": [
    "- We can conclude that there is no significant difference between the proportions of winners that are still operating and the proportions of contestants that are still operating."
   ]
  },
  {
   "cell_type": "markdown",
   "id": "b3f6bc16",
   "metadata": {},
   "source": [
    "### 4.I) Let's select only the Event that has ‘disrupt’ keyword from 2013 onwards. "
   ]
  },
  {
   "cell_type": "code",
   "execution_count": 35,
   "id": "b9d2d2ec",
   "metadata": {},
   "outputs": [
    {
     "name": "stdout",
     "output_type": "stream",
     "text": [
      "0          Disrupt SF 2013\n",
      "1         Disrupt NYC 2013\n",
      "2          Disrupt SF 2016\n",
      "3          Disrupt NY 2016\n",
      "4         Disrupt NYC 2013\n",
      "              ...         \n",
      "646    Disrupt London 2015\n",
      "648    Disrupt London 2015\n",
      "653        Disrupt EU 2014\n",
      "656       Disrupt NYC 2013\n",
      "660        Disrupt SF 2013\n",
      "Name: Event, Length: 276, dtype: object\n"
     ]
    }
   ],
   "source": [
    "disrupt_events = companies_2[companies_2['Event'].apply(lambda x: 'Disrupt' in x and int(x[-4:]) > 2012)]['Event']\n",
    "print(disrupt_events )"
   ]
  },
  {
   "cell_type": "code",
   "execution_count": 36,
   "id": "cc82d3d5",
   "metadata": {},
   "outputs": [
    {
     "data": {
      "text/html": [
       "<div>\n",
       "<style scoped>\n",
       "    .dataframe tbody tr th:only-of-type {\n",
       "        vertical-align: middle;\n",
       "    }\n",
       "\n",
       "    .dataframe tbody tr th {\n",
       "        vertical-align: top;\n",
       "    }\n",
       "\n",
       "    .dataframe thead th {\n",
       "        text-align: right;\n",
       "    }\n",
       "</style>\n",
       "<table border=\"1\" class=\"dataframe\">\n",
       "  <thead>\n",
       "    <tr style=\"text-align: right;\">\n",
       "      <th></th>\n",
       "      <th>Startup</th>\n",
       "      <th>Product</th>\n",
       "      <th>Funding</th>\n",
       "      <th>Event</th>\n",
       "      <th>Result</th>\n",
       "      <th>OperatingState</th>\n",
       "    </tr>\n",
       "  </thead>\n",
       "  <tbody>\n",
       "    <tr>\n",
       "      <th>0</th>\n",
       "      <td>2600Hz</td>\n",
       "      <td>2600hz.com</td>\n",
       "      <td>NaN</td>\n",
       "      <td>Disrupt SF 2013</td>\n",
       "      <td>Contestant</td>\n",
       "      <td>Operating</td>\n",
       "    </tr>\n",
       "    <tr>\n",
       "      <th>1</th>\n",
       "      <td>3DLT</td>\n",
       "      <td>3dlt.com</td>\n",
       "      <td>$630K</td>\n",
       "      <td>Disrupt NYC 2013</td>\n",
       "      <td>Contestant</td>\n",
       "      <td>Closed</td>\n",
       "    </tr>\n",
       "    <tr>\n",
       "      <th>2</th>\n",
       "      <td>3DPrinterOS</td>\n",
       "      <td>3dprinteros.com</td>\n",
       "      <td>NaN</td>\n",
       "      <td>Disrupt SF 2016</td>\n",
       "      <td>Contestant</td>\n",
       "      <td>Operating</td>\n",
       "    </tr>\n",
       "    <tr>\n",
       "      <th>3</th>\n",
       "      <td>3Dprintler</td>\n",
       "      <td>3dprintler.com</td>\n",
       "      <td>$1M</td>\n",
       "      <td>Disrupt NY 2016</td>\n",
       "      <td>Audience choice</td>\n",
       "      <td>Operating</td>\n",
       "    </tr>\n",
       "    <tr>\n",
       "      <th>4</th>\n",
       "      <td>42 Technologies</td>\n",
       "      <td>42technologies.com</td>\n",
       "      <td>NaN</td>\n",
       "      <td>Disrupt NYC 2013</td>\n",
       "      <td>Contestant</td>\n",
       "      <td>Operating</td>\n",
       "    </tr>\n",
       "    <tr>\n",
       "      <th>...</th>\n",
       "      <td>...</td>\n",
       "      <td>...</td>\n",
       "      <td>...</td>\n",
       "      <td>...</td>\n",
       "      <td>...</td>\n",
       "      <td>...</td>\n",
       "    </tr>\n",
       "    <tr>\n",
       "      <th>646</th>\n",
       "      <td>YayPay Inc</td>\n",
       "      <td>yaypay.com</td>\n",
       "      <td>$900K</td>\n",
       "      <td>Disrupt London 2015</td>\n",
       "      <td>Contestant</td>\n",
       "      <td>Operating</td>\n",
       "    </tr>\n",
       "    <tr>\n",
       "      <th>648</th>\n",
       "      <td>YOOBIC</td>\n",
       "      <td>yoobic.com</td>\n",
       "      <td>NaN</td>\n",
       "      <td>Disrupt London 2015</td>\n",
       "      <td>Finalist</td>\n",
       "      <td>Operating</td>\n",
       "    </tr>\n",
       "    <tr>\n",
       "      <th>653</th>\n",
       "      <td>ZAP!</td>\n",
       "      <td>zapreklam.com/</td>\n",
       "      <td>NaN</td>\n",
       "      <td>Disrupt EU 2014</td>\n",
       "      <td>Audience choice</td>\n",
       "      <td>Operating</td>\n",
       "    </tr>\n",
       "    <tr>\n",
       "      <th>656</th>\n",
       "      <td>Zenefits</td>\n",
       "      <td>zenefits.com</td>\n",
       "      <td>$583.6M</td>\n",
       "      <td>Disrupt NYC 2013</td>\n",
       "      <td>Finalist</td>\n",
       "      <td>Operating</td>\n",
       "    </tr>\n",
       "    <tr>\n",
       "      <th>660</th>\n",
       "      <td>Zula</td>\n",
       "      <td>zulaapp.com</td>\n",
       "      <td>$3.4M</td>\n",
       "      <td>Disrupt SF 2013</td>\n",
       "      <td>Audience choice</td>\n",
       "      <td>Operating</td>\n",
       "    </tr>\n",
       "  </tbody>\n",
       "</table>\n",
       "<p>276 rows × 6 columns</p>\n",
       "</div>"
      ],
      "text/plain": [
       "             Startup             Product  Funding                Event  \\\n",
       "0             2600Hz          2600hz.com      NaN      Disrupt SF 2013   \n",
       "1               3DLT            3dlt.com    $630K     Disrupt NYC 2013   \n",
       "2        3DPrinterOS     3dprinteros.com      NaN      Disrupt SF 2016   \n",
       "3         3Dprintler      3dprintler.com      $1M      Disrupt NY 2016   \n",
       "4    42 Technologies  42technologies.com      NaN     Disrupt NYC 2013   \n",
       "..               ...                 ...      ...                  ...   \n",
       "646       YayPay Inc          yaypay.com    $900K  Disrupt London 2015   \n",
       "648           YOOBIC          yoobic.com      NaN  Disrupt London 2015   \n",
       "653             ZAP!      zapreklam.com/      NaN      Disrupt EU 2014   \n",
       "656         Zenefits        zenefits.com  $583.6M     Disrupt NYC 2013   \n",
       "660             Zula         zulaapp.com    $3.4M      Disrupt SF 2013   \n",
       "\n",
       "              Result OperatingState  \n",
       "0         Contestant      Operating  \n",
       "1         Contestant         Closed  \n",
       "2         Contestant      Operating  \n",
       "3    Audience choice      Operating  \n",
       "4         Contestant      Operating  \n",
       "..               ...            ...  \n",
       "646       Contestant      Operating  \n",
       "648         Finalist      Operating  \n",
       "653  Audience choice      Operating  \n",
       "656         Finalist      Operating  \n",
       "660  Audience choice      Operating  \n",
       "\n",
       "[276 rows x 6 columns]"
      ]
     },
     "execution_count": 36,
     "metadata": {},
     "output_type": "execute_result"
    }
   ],
   "source": [
    "disrupt_events_data = companies_2[(companies_2['Event'].str.startswith('Disrupt')) & (companies_2['Event'].str[-4:]> '2012')]\n",
    "disrupt_events_data"
   ]
  },
  {
   "cell_type": "markdown",
   "id": "e3c2b635",
   "metadata": {},
   "source": [
    "- There are 276 rows in which 'Event' that has ‘Disrupt’ keyword from 2013 onwards in the original data set."
   ]
  }
 ],
 "metadata": {
  "kernelspec": {
   "display_name": "Python 3 (ipykernel)",
   "language": "python",
   "name": "python3"
  },
  "language_info": {
   "codemirror_mode": {
    "name": "ipython",
    "version": 3
   },
   "file_extension": ".py",
   "mimetype": "text/x-python",
   "name": "python",
   "nbconvert_exporter": "python",
   "pygments_lexer": "ipython3",
   "version": "3.11.5"
  }
 },
 "nbformat": 4,
 "nbformat_minor": 5
}
