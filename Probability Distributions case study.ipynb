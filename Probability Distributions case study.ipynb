{
 "cells": [
  {
   "cell_type": "markdown",
   "id": "469f425e",
   "metadata": {},
   "source": [
    "### Importing the libraries"
   ]
  },
  {
   "cell_type": "code",
   "execution_count": 1,
   "id": "5d6d6221",
   "metadata": {},
   "outputs": [],
   "source": [
    "import numpy as np\n",
    "import pandas as pd\n",
    "\n",
    "import matplotlib.pyplot as plt\n",
    "import seaborn as sns\n",
    "%matplotlib inline\n",
    "import scipy.stats as stats\n",
    "\n",
    "import warnings\n",
    "warnings.filterwarnings('ignore')"
   ]
  },
  {
   "cell_type": "markdown",
   "id": "cd52570c",
   "metadata": {},
   "source": [
    "### 1-A):Answer"
   ]
  },
  {
   "cell_type": "raw",
   "id": "05a17578",
   "metadata": {},
   "source": [
    "Number of people who planned to purchase product-A and actually placed the order = 400\n",
    "Total no of people = 2000\n",
    "Joint probability = no of people who planned to purchase product-A and actually placed order / Total no of people "
   ]
  },
  {
   "cell_type": "code",
   "execution_count": 2,
   "id": "0310a9aa",
   "metadata": {
    "scrolled": true
   },
   "outputs": [
    {
     "name": "stdout",
     "output_type": "stream",
     "text": [
      "Joint probability of the people who planned to purchase and actually placed an order is 0.2 \n"
     ]
    }
   ],
   "source": [
    "J1 = 400/2000\n",
    "print(f'Joint probability of the people who planned to purchase and actually placed an order is {J1} ')"
   ]
  },
  {
   "cell_type": "markdown",
   "id": "10778ae0",
   "metadata": {},
   "source": [
    "### 1-B):Answer"
   ]
  },
  {
   "cell_type": "raw",
   "id": "b5892b0e",
   "metadata": {},
   "source": [
    "Joint probability = no of people who planned to purchase product-A and actually placed / no of people who planned to purchase "
   ]
  },
  {
   "cell_type": "code",
   "execution_count": 3,
   "id": "709f058d",
   "metadata": {},
   "outputs": [
    {
     "name": "stdout",
     "output_type": "stream",
     "text": [
      "The joint probability of the people who planned to purchase and actually placed an order , given that people planned to purchase is 0.8\n"
     ]
    }
   ],
   "source": [
    "J2 = 400/500\n",
    "print(f'The joint probability of the people who planned to purchase and actually placed an order , given that\\\n",
    " people planned to purchase is {J2}')"
   ]
  },
  {
   "cell_type": "markdown",
   "id": "d028fedd",
   "metadata": {},
   "source": [
    "### 2-A):Answer"
   ]
  },
  {
   "cell_type": "code",
   "execution_count": 4,
   "id": "333d9765",
   "metadata": {},
   "outputs": [],
   "source": [
    "p = 0.05\n",
    "n = 10"
   ]
  },
  {
   "cell_type": "code",
   "execution_count": 5,
   "id": "57c59936",
   "metadata": {},
   "outputs": [
    {
     "name": "stdout",
     "output_type": "stream",
     "text": [
      "Probability that none of the items are defective is 0.599\n"
     ]
    }
   ],
   "source": [
    "from scipy.stats import binom\n",
    "binomial = binom.pmf(n=n, p=p, k=0)\n",
    "print(f'Probability that none of the items are defective is {round(binomial,3)}')"
   ]
  },
  {
   "cell_type": "markdown",
   "id": "b8200c8b",
   "metadata": {},
   "source": [
    "### 2-B):Answer"
   ]
  },
  {
   "cell_type": "code",
   "execution_count": 6,
   "id": "24a32c17",
   "metadata": {},
   "outputs": [
    {
     "name": "stdout",
     "output_type": "stream",
     "text": [
      "Probability that exactly one of the items is defective is 0.315\n"
     ]
    }
   ],
   "source": [
    "binomial = binom.pmf(n=n, p=p, k=1)\n",
    "print(f'Probability that exactly one of the items is defective is {round(binomial,3)}')"
   ]
  },
  {
   "cell_type": "markdown",
   "id": "60f4b050",
   "metadata": {},
   "source": [
    "### 2-C):Answer"
   ]
  },
  {
   "cell_type": "code",
   "execution_count": 7,
   "id": "f9a8acb2",
   "metadata": {},
   "outputs": [
    {
     "name": "stdout",
     "output_type": "stream",
     "text": [
      "Probability that two or fewer of the items are defective is 0.988\n"
     ]
    }
   ],
   "source": [
    "binomial = binom.cdf(n=n, p=p, k=2)\n",
    "print(f'Probability that two or fewer of the items are defective is {round(binomial, 3)}')"
   ]
  },
  {
   "cell_type": "markdown",
   "id": "c5ef3398",
   "metadata": {},
   "source": [
    "### 2-D):Answer"
   ]
  },
  {
   "cell_type": "code",
   "execution_count": 8,
   "id": "23380da5",
   "metadata": {},
   "outputs": [
    {
     "name": "stdout",
     "output_type": "stream",
     "text": [
      "Probability that three or more of the items are defective is 0.012\n"
     ]
    }
   ],
   "source": [
    "binomial = 1 - binom.cdf(n=n, p=p, k=2)\n",
    "print(f'Probability that three or more of the items are defective is {round(binomial, 3)}')"
   ]
  },
  {
   "cell_type": "markdown",
   "id": "b042a416",
   "metadata": {},
   "source": [
    "### 3-A):Answer"
   ]
  },
  {
   "cell_type": "code",
   "execution_count": 9,
   "id": "f6f14e2d",
   "metadata": {},
   "outputs": [
    {
     "name": "stdout",
     "output_type": "stream",
     "text": [
      " Probability that in a given week he will sell some cars is 0.9502\n"
     ]
    }
   ],
   "source": [
    "mean = 3\n",
    "# sales man sales some cars means not sold is excluded\n",
    "from scipy.stats import poisson\n",
    "some_cars =1 - poisson.pmf(0, mean)\n",
    "print(f' Probability that in a given week he will sell some cars is {round(some_cars, 4)}')"
   ]
  },
  {
   "cell_type": "markdown",
   "id": "80b93602",
   "metadata": {},
   "source": [
    "### 3-B):Answer"
   ]
  },
  {
   "cell_type": "code",
   "execution_count": 10,
   "id": "45a0b581",
   "metadata": {},
   "outputs": [
    {
     "name": "stdout",
     "output_type": "stream",
     "text": [
      "Probability that in a given week he will sell 2 or more but less than 5 cars is 0.616\n"
     ]
    }
   ],
   "source": [
    "sales_2_to_4 = poisson.cdf(4,mean) - poisson.cdf(1,mean)\n",
    "print(f'Probability that in a given week he will sell 2 or more but less than 5 cars is {round(sales_2_to_4, 3)}')"
   ]
  },
  {
   "cell_type": "markdown",
   "id": "dd9fc9f7",
   "metadata": {},
   "source": [
    "### 3-C):Answer"
   ]
  },
  {
   "cell_type": "code",
   "execution_count": 11,
   "id": "0a3cd9b9",
   "metadata": {},
   "outputs": [],
   "source": [
    "# Let's plot the probabilities of 10 cars sold"
   ]
  },
  {
   "cell_type": "code",
   "execution_count": 12,
   "id": "6ee5d3ae",
   "metadata": {},
   "outputs": [],
   "source": [
    "r = np.arange(0, 11)\n",
    "cdf = poisson.cdf(r, 3)"
   ]
  },
  {
   "cell_type": "code",
   "execution_count": 13,
   "id": "48a2a0fb",
   "metadata": {},
   "outputs": [
    {
     "data": {
      "text/plain": [
       "[<matplotlib.lines.Line2D at 0x1b0f1a59a50>]"
      ]
     },
     "execution_count": 13,
     "metadata": {},
     "output_type": "execute_result"
    },
    {
     "data": {
      "image/png": "[encoded data removed]",
      "text/plain": [
       "<Figure size 1000x500 with 1 Axes>"
      ]
     },
     "metadata": {},
     "output_type": "display_data"
    }
   ],
   "source": [
    "plt.figure(figsize=(10,5))\n",
    "plt.title('Cumulative Distribution Function')\n",
    "plt.xlabel(\"Number of Cars sold\")\n",
    "plt.ylabel(\"cdf\")\n",
    "plt.grid(True)\n",
    "plt.plot(r, cdf, 'o-', c='y')"
   ]
  },
  {
   "cell_type": "markdown",
   "id": "e94ba2f6",
   "metadata": {},
   "source": [
    "### 4-A):Answer"
   ]
  },
  {
   "cell_type": "code",
   "execution_count": 14,
   "id": "e011efb0",
   "metadata": {},
   "outputs": [
    {
     "name": "stdout",
     "output_type": "stream",
     "text": [
      "The probability that all three orders will be recognised correctly is 0.654\n"
     ]
    }
   ],
   "source": [
    "p = 0.868\n",
    "n = 3\n",
    "binomial = binom.pmf(n=n, p=p, k=3)\n",
    "print(f'The probability that all three orders will be recognised correctly is {round(binomial, 3)}')"
   ]
  },
  {
   "cell_type": "markdown",
   "id": "eff7f86a",
   "metadata": {},
   "source": [
    "### 4-B):Answer"
   ]
  },
  {
   "cell_type": "code",
   "execution_count": 15,
   "id": "1731b370",
   "metadata": {
    "scrolled": true
   },
   "outputs": [
    {
     "name": "stdout",
     "output_type": "stream",
     "text": [
      "The probability that none of the three orders will be recognised correctly is 0.002\n"
     ]
    }
   ],
   "source": [
    "binomial = binom.pmf(k=0, n=n, p=p)\n",
    "print(f'The probability that none of the three orders will be recognised correctly is {round(binomial, 3)}')"
   ]
  },
  {
   "cell_type": "markdown",
   "id": "427d6cfc",
   "metadata": {},
   "source": [
    "### 4-C):Answer"
   ]
  },
  {
   "cell_type": "code",
   "execution_count": 16,
   "id": "0a72b255",
   "metadata": {},
   "outputs": [
    {
     "name": "stdout",
     "output_type": "stream",
     "text": [
      "The probability that at least two of the three orders will be recognised correctly is 0.952\n"
     ]
    }
   ],
   "source": [
    "binomial = 1 - binom.cdf(k = 1, n = n, p = p)\n",
    "print(f'The probability that at least two of the three orders will be recognised correctly is {round(binomial, 3)}')"
   ]
  },
  {
   "cell_type": "markdown",
   "id": "4ea98ad7",
   "metadata": {},
   "source": [
    "### 5) Answer"
   ]
  },
  {
   "cell_type": "markdown",
   "id": "f407baa5",
   "metadata": {},
   "source": [
    "- We can apply statistical techniques in quality control in manufacturing, determining the selling price of the product  and understanding customers' behavior and demands.\n",
    "- In the healthcare sector, statistical techniques can be effectively applied."
   ]
  },
  {
   "cell_type": "markdown",
   "id": "85d5be0d",
   "metadata": {},
   "source": [
    "    "
   ]
  }
 ],
 "metadata": {
  "kernelspec": {
   "display_name": "Python 3 (ipykernel)",
   "language": "python",
   "name": "python3"
  },
  "language_info": {
   "codemirror_mode": {
    "name": "ipython",
    "version": 3
   },
   "file_extension": ".py",
   "mimetype": "text/x-python",
   "name": "python",
   "nbconvert_exporter": "python",
   "pygments_lexer": "ipython3",
   "version": "3.11.5"
  }
 },
 "nbformat": 4,
 "nbformat_minor": 5
}
